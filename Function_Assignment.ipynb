{
  "nbformat": 4,
  "nbformat_minor": 0,
  "metadata": {
    "colab": {
      "provenance": []
    },
    "kernelspec": {
      "name": "python3",
      "display_name": "Python 3"
    },
    "language_info": {
      "name": "python"
    }
  },
  "cells": [
    {
      "cell_type": "markdown",
      "source": [
        "###1. What is the difference between a function and a method in Python?\n"
      ],
      "metadata": {
        "id": "n18-TJOJibNK"
      }
    },
    {
      "cell_type": "markdown",
      "source": [
        "In Python, both functions and methods are blocks of code that do something when you call them — but the main difference lies in how they are used and where they belong.\n",
        "\n",
        "A function is like a standalone tool. You can define it anywhere (usually using def), and it can be called on its own.\n",
        "\n",
        "A method is like a tool that belongs to an object. It's a function that’s tied to a specific data type or class."
      ],
      "metadata": {
        "id": "MGa5TvdximOu"
      }
    },
    {
      "cell_type": "markdown",
      "source": [
        "###2. Explain the concept of function arguments and parameters in Python ?"
      ],
      "metadata": {
        "id": "3CHaX3Qri3eE"
      }
    },
    {
      "cell_type": "markdown",
      "source": [
        "In Python, functions are reusable blocks of code designed to perform a specific task. When defining and calling functions, we often deal with two important terms: parameters and arguments.\n",
        "\n",
        "Parameters\n",
        "Parameters are the variables listed inside the parentheses in a function definition. They act as placeholders for the values the function will use when it is called.\n",
        "\n",
        "Arguments are the actual values passed to the function when it is called. These values are assigned to the corresponding parameters.\n",
        "\n"
      ],
      "metadata": {
        "id": "JH8Ml6gKjBoe"
      }
    },
    {
      "cell_type": "markdown",
      "source": [
        "###3. What are the different ways to define and call a function in Python?"
      ],
      "metadata": {
        "id": "0inaNdYgjTL6"
      }
    },
    {
      "cell_type": "markdown",
      "source": [
        "In Python, a function is a block of reusable code that performs a specific task. Functions help in organizing code, improving readability, and avoiding repetition.\n",
        "\n",
        "There are several ways to define and call functions in Python:\n",
        "In Python, functions can be defined and called in several ways:\n",
        "\n",
        "Standard Function\n",
        "\n",
        "python\n",
        "Copy\n",
        "Edit\n",
        "def greet():\n",
        "    print(\"Hello\")\n",
        "greet()\n",
        "Function with Parameters\n",
        "\n",
        "python\n",
        "Copy\n",
        "Edit\n",
        "def greet(name):\n",
        "    print(\"Hello\", name)\n",
        "greet(\"Ashutosh\")\n",
        "Function with Return Value\n",
        "\n",
        "python\n",
        "Copy\n",
        "Edit\n",
        "def add(a, b):\n",
        "    return a + b\n",
        "print(add(2, 3))\n",
        "Lambda Function (Anonymous)\n",
        "\n",
        "python\n",
        "Copy\n",
        "Edit\n",
        "square = lambda x: x * x\n",
        "print(square(4))\n",
        "Recursive Function\n",
        "\n",
        "python\n",
        "Copy\n",
        "Edit\n",
        "def fact(n):\n",
        "    if n == 1: return 1\n",
        "    return n * fact(n - 1)\n",
        "print(fact(5))\n",
        "Function with Default & Variable Arguments\n",
        "\n",
        "python\n",
        "Copy\n",
        "Edit\n",
        "def greet(name=\"Guest\"):\n",
        "    print(\"Hello\", name)\n",
        "\n",
        "def show(*args):\n",
        "    print(args)\n",
        "\n",
        "greet()\n",
        "show(1, 2, 3)\n",
        "Each type offers flexibility depending on the task and structure of the program."
      ],
      "metadata": {
        "id": "0nolDdcmjV9f"
      }
    },
    {
      "cell_type": "markdown",
      "source": [
        "###4. What is the purpose of the `return` statement in a Python function?"
      ],
      "metadata": {
        "id": "RZfwUvQsjnbd"
      }
    },
    {
      "cell_type": "markdown",
      "source": [
        "The return statement in Python is used to send a value back from a function to the place where it was called. It ends the function's execution and gives the result to the caller.\n",
        "\n",
        "Example:\n",
        "python\n",
        "Copy\n",
        "Edit\n",
        "def add(a, b):\n",
        "    return a + b\n",
        "\n",
        "result = add(3, 5)\n",
        "print(result)    # Output: 8\n",
        "Key Points:\n",
        "It allows the function to output a result.\n",
        "\n",
        "Without return, the function returns None by default.\n",
        "\n",
        "You can return any data type, even multiple values."
      ],
      "metadata": {
        "id": "uBskVv41jwrO"
      }
    },
    {
      "cell_type": "markdown",
      "source": [
        "###5. What are iterators in Python and how do they differ from iterables?"
      ],
      "metadata": {
        "id": "ygo18bq-jyNJ"
      }
    },
    {
      "cell_type": "markdown",
      "source": [
        "In Python:\n",
        "\n",
        "An iterable is any object that can be looped over (like list, tuple, string, etc.).\n",
        "\n",
        "An iterator is an object that remembers its position during iteration and returns the next value when you call next() on it.\n",
        "\n",
        "All iterators are iterables, but not all iterables are iterators.\n",
        "\n",
        "You use iter() to convert an iterable into an iterator.\n",
        "\n"
      ],
      "metadata": {
        "id": "Kf7zRy9sj2YR"
      }
    },
    {
      "cell_type": "markdown",
      "source": [
        "###6. Explain the concept of generators in Python and how they are defined.?"
      ],
      "metadata": {
        "id": "ZVubmOALj_2Y"
      }
    },
    {
      "cell_type": "markdown",
      "source": [
        "In Python, generators are special functions that return an iterator and allow you to generate values one at a time using the yield keyword, instead of returning all values at once.\n",
        "\n",
        "How to Define a Generator:\n",
        "Generators are defined like normal functions, but use **yield** instead of return.\n",
        "\n",
        "python\n",
        "Copy\n",
        "Edit\n",
        "def countdown(n):\n",
        "    while n > 0:\n",
        "        yield n\n",
        "        n -= 1\n",
        "Using the generator:\n",
        "\n",
        "python\n",
        "Copy\n",
        "Edit\n",
        "for num in countdown(3):\n",
        "    print(num)\n",
        "Output:\n",
        "\n",
        "Copy\n",
        "Edit\n",
        "3\n",
        "2\n",
        "1\n",
        "Key Features:\n",
        "Uses yield to pause and resume the function.\n",
        "\n",
        "More memory efficient than lists, especially for large data.\n",
        "\n",
        "Automatically creates an iterator.\n",
        "\n",
        "Example Use Cases:\n",
        "Reading large files line by line\n",
        "\n",
        "Generating infinite sequences\n",
        "\n",
        "Streaming data\n",
        "\n"
      ],
      "metadata": {
        "id": "ZuT-kxBnkI2x"
      }
    },
    {
      "cell_type": "markdown",
      "source": [
        "###7. What are the advantages of using generators over regular functions?"
      ],
      "metadata": {
        "id": "GoD6zhW5kKpk"
      }
    },
    {
      "cell_type": "markdown",
      "source": [
        "Generators offer several advantages over regular functions, especially when dealing with large data or long sequences.\n",
        "\n",
        "Advantages of Generators:\n",
        "Memory Efficient\n",
        "Generators yield one value at a time, so they don’t store the entire sequence in memory like lists.\n",
        "\n",
        "Lazy Evaluation\n",
        "Values are generated only when needed, which speeds up performance and saves resources.\n",
        "\n",
        "Infinite Sequences\n",
        "You can create sequences that go on forever (e.g., stream of numbers) without using up memory.\n",
        "\n",
        "Improves Performance\n",
        "Faster execution for large data sets since values are processed one-by-one.\n",
        "\n",
        "Simpler Code for Iterators\n",
        "Generators make it easier to write iterators using the yield keyword, without needing to define __iter__() and __next__() methods manually.\n",
        "\n",
        "Example:\n",
        "python\n",
        "Copy\n",
        "Edit\n",
        "def count_up_to(n):\n",
        "    i = 1\n",
        "    while i <= n:\n",
        "        yield i\n",
        "        i += 1\n",
        "This generator creates numbers up to n without storing them all at once."
      ],
      "metadata": {
        "id": "guJZBNiTkSLy"
      }
    },
    {
      "cell_type": "markdown",
      "source": [
        "###8. What is a lambda function in Python and when is it typically used?"
      ],
      "metadata": {
        "id": "5FGvuoZEkTyH"
      }
    },
    {
      "cell_type": "markdown",
      "source": [
        "A lambda function in Python is a small anonymous function defined using the lambda keyword. It can have any number of arguments but only one expression, which is evaluated and returned.\n",
        "\n",
        "Syntax:\n",
        "python\n",
        "Copy\n",
        "Edit\n",
        "lambda arguments: expression\n",
        "Example:\n",
        "\n",
        "python\n",
        "Copy\n",
        "Edit\n",
        "square = lambda x: x * x\n",
        "print(square(4))     # Output: 16\n",
        "When is it used?\n",
        "Lambda functions are typically used for:\n",
        "\n",
        "Short, simple functions\n",
        "(e.g., doing quick calculations or transformations)\n",
        "\n",
        "Used with functions like map(), filter(), and sorted()\n",
        "\n",
        "python\n",
        "Copy\n",
        "Edit\n",
        "nums = [1, 2, 3, 4]\n",
        "squared = list(map(lambda x: x*x, nums))\n",
        "print(squared)     # Output: [1, 4, 9, 16]\n",
        "As arguments to higher-order functions\n",
        "When you don’t want to define a separate named function.\n",
        "\n",
        "Conclusion:\n",
        "Lambda functions are best used for short, throwaway tasks where defining a full function isn’t necessary."
      ],
      "metadata": {
        "id": "T6ePX9YJkcGf"
      }
    },
    {
      "cell_type": "markdown",
      "source": [
        "###9. Explain the purpose and usage of the `map()` function in Python."
      ],
      "metadata": {
        "id": "GLh3-bWzkduq"
      }
    },
    {
      "cell_type": "markdown",
      "source": [
        "The map() function in Python is used to apply a function to each item in an iterable (like a list or tuple) and returns a new map object (which is an iterator) with the results.\n",
        "\n",
        "Syntax:\n",
        "python\n",
        "Copy\n",
        "Edit\n",
        "map(function, iterable)\n",
        "Purpose:\n",
        "To perform the same operation on every element in an iterable without using a loop.\n",
        "\n",
        "Example:\n",
        "python\n",
        "Copy\n",
        "Edit\n",
        "def square(x):\n",
        "    return x * x\n",
        "\n",
        "numbers = [1, 2, 3, 4]\n",
        "result = map(square, numbers)\n",
        "\n",
        "print(list(result))    # Output: [1, 4, 9, 16]\n",
        "Using with Lambda:\n",
        "python\n",
        "Copy\n",
        "Edit\n",
        "nums = [2, 3, 4]\n",
        "squared = list(map(lambda x: x**2, nums))\n",
        "print(squared)         # Output: [4, 9, 16]\n",
        "Key Points:\n",
        "Returns an iterator, so use list() to see the result.\n",
        "\n",
        "Makes code shorter and faster than using loops.\n",
        "\n",
        "Can work with multiple iterables if the function accepts multiple arguments.\n",
        "\n",
        "Conclusion:\n",
        "The map() function is a powerful and clean way to apply a function to all items in a sequence without writing manual loops."
      ],
      "metadata": {
        "id": "vkW5rvjsklBw"
      }
    },
    {
      "cell_type": "markdown",
      "source": [
        "###10. What is the difference between `map()`, `reduce()`, and `filter()` functions in Python?"
      ],
      "metadata": {
        "id": "jMOVWfQJko6r"
      }
    },
    {
      "cell_type": "markdown",
      "source": [
        "In Python, map(), reduce(), and filter() are higher-order functions used to process data in iterables like lists and tuples. Here's how they differ:\n",
        "\n",
        "🔹 1. map()\n",
        "Purpose: Applies a function to every item in an iterable.\n",
        "\n",
        "Returns: A new iterable with the results.\n",
        "\n",
        "Example:\n",
        "\n",
        "python\n",
        "Copy\n",
        "Edit\n",
        "nums = [1, 2, 3]\n",
        "result = map(lambda x: x * 2, nums)\n",
        "print(list(result))  # Output: [2, 4, 6]\n",
        "🔹 2. filter()\n",
        "Purpose: Filters items in an iterable based on a condition (function returns True/False).\n",
        "\n",
        "Returns: A new iterable with only the items that meet the condition.\n",
        "\n",
        "Example:\n",
        "\n",
        "python\n",
        "Copy\n",
        "Edit\n",
        "nums = [1, 2, 3, 4]\n",
        "result = filter(lambda x: x % 2 == 0, nums)\n",
        "print(list(result))  # Output: [2, 4]\n",
        "🔹 3. reduce() (from functools module)\n",
        "Purpose: Applies a function cumulatively to the items, reducing them to a single value.\n",
        "\n",
        "Returns: A single result.\n",
        "\n",
        "Example:\n",
        "\n",
        "python\n",
        "Copy\n",
        "Edit\n",
        "from functools import reduce\n",
        "\n",
        "nums = [1, 2, 3, 4]\n",
        "result = reduce(lambda x, y: x + y, nums)\n",
        "print(result)  # Output: 10"
      ],
      "metadata": {
        "id": "eDnEBAJjku5G"
      }
    },
    {
      "cell_type": "markdown",
      "source": [
        "###11. Using pen & Paper write the internal mechanism for sum operation using  reduce function on this given\n",
        "list:[47,11,42,13];"
      ],
      "metadata": {
        "id": "lRXtoHsRk2Fq"
      }
    },
    {
      "cell_type": "markdown",
      "source": [
        "We are using:\n",
        "\n",
        "python\n",
        "Copy\n",
        "Edit\n",
        "from functools import reduce\n",
        "reduce(lambda x, y: x + y, [47, 11, 42, 13])\n",
        " Step-by-step Execution:\n",
        "Let the list be:\n",
        "\n",
        "csharp\n",
        "Copy\n",
        "Edit\n",
        "[47, 11, 42, 13]\n",
        "Step 1:\n",
        "Apply the lambda on the first two elements:\n",
        "\n",
        "ruby\n",
        "Copy\n",
        "Edit\n",
        "x = 47, y = 11  \n",
        "=> 47 + 11 = 58\n",
        "Step 2:\n",
        "Now, use the result (58) with the next element (42):\n",
        "\n",
        "ruby\n",
        "Copy\n",
        "Edit\n",
        "x = 58, y = 42  \n",
        "=> 58 + 42 = 100\n",
        "Step 3:\n",
        "Use the result (100) with the next element (13):\n",
        "\n",
        "ruby\n",
        "Copy\n",
        "Edit\n",
        "x = 100, y = 13  \n",
        "=> 100 + 13 = 113\n",
        " Final Result:\n",
        "Copy\n",
        "Edit\n",
        "113\n",
        " How it looks in reduce():\n",
        "ruby\n",
        "Copy\n",
        "Edit\n",
        "reduce(lambda x, y: x + y, [47, 11, 42, 13])\n",
        "=> (((47 + 11) + 42) + 13)\n",
        "=> (58 + 42) + 13\n",
        "=> 100 + 13\n",
        "=> 113"
      ],
      "metadata": {
        "id": "Muqos3_OlEIK"
      }
    },
    {
      "cell_type": "markdown",
      "source": [
        "#Practical Questions:"
      ],
      "metadata": {
        "id": "2_wMzft-lM2n"
      }
    },
    {
      "cell_type": "markdown",
      "source": [
        "### Write a Python function that takes a list of numbers as input and returns the sum of all even numbers in the list."
      ],
      "metadata": {
        "id": "9XMiLqS8lROf"
      }
    },
    {
      "cell_type": "code",
      "source": [
        "def sum_of_evens(numbers):\n",
        "    even_sum = 0\n",
        "    for num in range(numbers):\n",
        "        if num % 2 == 0:\n",
        "            even_sum += num\n",
        "    return even_sum"
      ],
      "metadata": {
        "id": "BARaspcKijIU"
      },
      "execution_count": 3,
      "outputs": []
    },
    {
      "cell_type": "code",
      "source": [
        "sum_of_evens(10)"
      ],
      "metadata": {
        "colab": {
          "base_uri": "https://localhost:8080/"
        },
        "id": "fH42q_SPlX38",
        "outputId": "5d44cd2f-392e-424c-d83c-28bf6641f70d"
      },
      "execution_count": 4,
      "outputs": [
        {
          "output_type": "execute_result",
          "data": {
            "text/plain": [
              "20"
            ]
          },
          "metadata": {},
          "execution_count": 4
        }
      ]
    },
    {
      "cell_type": "markdown",
      "source": [
        "###2. Create a Python function that accepts a string and returns the reverse of that string.?"
      ],
      "metadata": {
        "id": "berv3YmHlvfy"
      }
    },
    {
      "cell_type": "code",
      "source": [
        "def reverse_string(text):\n",
        "    return text[::-1]"
      ],
      "metadata": {
        "id": "J0odq5pulh4O"
      },
      "execution_count": 5,
      "outputs": []
    },
    {
      "cell_type": "code",
      "source": [
        "input_str = \"Python\"\n",
        "result = reverse_string(input_str)\n",
        "print(\"Reversed string:\", result)"
      ],
      "metadata": {
        "colab": {
          "base_uri": "https://localhost:8080/"
        },
        "id": "HS1KodxSl3Cr",
        "outputId": "0b22ca8b-a803-4bbf-df57-3fd4358a5d51"
      },
      "execution_count": 6,
      "outputs": [
        {
          "output_type": "stream",
          "name": "stdout",
          "text": [
            "Reversed string: nohtyP\n"
          ]
        }
      ]
    },
    {
      "cell_type": "markdown",
      "source": [
        "###3. Implement a Python function that takes a list of integers and returns a new list containing the squares of each number.?"
      ],
      "metadata": {
        "id": "sySvMrqAl9wK"
      }
    },
    {
      "cell_type": "code",
      "source": [
        "def square_numbers(numbers):\n",
        "    return [num ** 2 for num in numbers]"
      ],
      "metadata": {
        "id": "mcUPOEyIl6Fh"
      },
      "execution_count": 7,
      "outputs": []
    },
    {
      "cell_type": "code",
      "source": [
        "my_list = [1, 2, 3, 4]\n",
        "result = square_numbers(my_list)\n",
        "print(\"Squared list:\", result)"
      ],
      "metadata": {
        "colab": {
          "base_uri": "https://localhost:8080/"
        },
        "id": "M5-c5_DYmF4D",
        "outputId": "11410757-1597-49f7-913f-1b3851736926"
      },
      "execution_count": 8,
      "outputs": [
        {
          "output_type": "stream",
          "name": "stdout",
          "text": [
            "Squared list: [1, 4, 9, 16]\n"
          ]
        }
      ]
    },
    {
      "cell_type": "markdown",
      "source": [
        "###4. Write a Python function that checks if a given number is prime or not from 1 to 200. ?"
      ],
      "metadata": {
        "id": "LPMNac07mMcC"
      }
    },
    {
      "cell_type": "code",
      "source": [
        "def is_prime(n):\n",
        "    if n < 2:\n",
        "        return False\n",
        "    for i in range(2, int(n**0.5) + 1):\n",
        "        if n % i == 0:\n",
        "            return False\n",
        "    return True"
      ],
      "metadata": {
        "id": "NIKHQ5QumIX3"
      },
      "execution_count": 9,
      "outputs": []
    },
    {
      "cell_type": "code",
      "source": [
        "for num in range(1, 201):\n",
        "    if is_prime(num):\n",
        "        print(num, \"is a prime number\")"
      ],
      "metadata": {
        "colab": {
          "base_uri": "https://localhost:8080/"
        },
        "id": "oWZfUeHrmTGH",
        "outputId": "4001d5b3-4e19-40b7-d0ac-43fc2a297ba8"
      },
      "execution_count": 10,
      "outputs": [
        {
          "output_type": "stream",
          "name": "stdout",
          "text": [
            "2 is a prime number\n",
            "3 is a prime number\n",
            "5 is a prime number\n",
            "7 is a prime number\n",
            "11 is a prime number\n",
            "13 is a prime number\n",
            "17 is a prime number\n",
            "19 is a prime number\n",
            "23 is a prime number\n",
            "29 is a prime number\n",
            "31 is a prime number\n",
            "37 is a prime number\n",
            "41 is a prime number\n",
            "43 is a prime number\n",
            "47 is a prime number\n",
            "53 is a prime number\n",
            "59 is a prime number\n",
            "61 is a prime number\n",
            "67 is a prime number\n",
            "71 is a prime number\n",
            "73 is a prime number\n",
            "79 is a prime number\n",
            "83 is a prime number\n",
            "89 is a prime number\n",
            "97 is a prime number\n",
            "101 is a prime number\n",
            "103 is a prime number\n",
            "107 is a prime number\n",
            "109 is a prime number\n",
            "113 is a prime number\n",
            "127 is a prime number\n",
            "131 is a prime number\n",
            "137 is a prime number\n",
            "139 is a prime number\n",
            "149 is a prime number\n",
            "151 is a prime number\n",
            "157 is a prime number\n",
            "163 is a prime number\n",
            "167 is a prime number\n",
            "173 is a prime number\n",
            "179 is a prime number\n",
            "181 is a prime number\n",
            "191 is a prime number\n",
            "193 is a prime number\n",
            "197 is a prime number\n",
            "199 is a prime number\n"
          ]
        }
      ]
    },
    {
      "cell_type": "markdown",
      "source": [
        "###5. Create an iterator class in Python that generates the Fibonacci sequence up to a specified number of terms ?"
      ],
      "metadata": {
        "id": "vPeG-uJOmcsZ"
      }
    },
    {
      "cell_type": "code",
      "source": [
        "class FibonacciIterator:\n",
        "    def __init__(self, max_terms):\n",
        "        self.max_terms = max_terms\n",
        "        self.count = 0\n",
        "        self.a, self.b = 0, 1\n",
        "\n",
        "    def __iter__(self):\n",
        "        return self\n",
        "\n",
        "    def __next__(self):\n",
        "        if self.count >= self.max_terms:\n",
        "            raise StopIteration\n",
        "        fib = self.a\n",
        "        self.a, self.b = self.b, self.a + self.b\n",
        "        self.count += 1\n",
        "        return fib"
      ],
      "metadata": {
        "id": "FDdfi5cRmXoP"
      },
      "execution_count": 11,
      "outputs": []
    },
    {
      "cell_type": "code",
      "source": [
        "fib = FibonacciIterator(10)\n",
        "\n",
        "for num in fib:\n",
        "    print(num)"
      ],
      "metadata": {
        "colab": {
          "base_uri": "https://localhost:8080/"
        },
        "id": "b6Di2EcSmomj",
        "outputId": "6f3a2ba9-5dbc-4eb1-b6c4-bfafcc86b4fa"
      },
      "execution_count": 12,
      "outputs": [
        {
          "output_type": "stream",
          "name": "stdout",
          "text": [
            "0\n",
            "1\n",
            "1\n",
            "2\n",
            "3\n",
            "5\n",
            "8\n",
            "13\n",
            "21\n",
            "34\n"
          ]
        }
      ]
    },
    {
      "cell_type": "markdown",
      "source": [
        "###6. Write a generator function in Python that yields the powers of 2 up to a given exponent ?"
      ],
      "metadata": {
        "id": "rgwkIxQEmwZl"
      }
    },
    {
      "cell_type": "code",
      "source": [
        "def powers_of_two(max_exp):\n",
        "    for i in range(max_exp + 1):\n",
        "        yield 2 ** i"
      ],
      "metadata": {
        "id": "CFvzlJRdmscB"
      },
      "execution_count": 13,
      "outputs": []
    },
    {
      "cell_type": "code",
      "source": [
        "for power in powers_of_two(5):\n",
        "    print(power)"
      ],
      "metadata": {
        "colab": {
          "base_uri": "https://localhost:8080/"
        },
        "id": "nfdpVPYtm1_a",
        "outputId": "211371b3-c2fb-4da2-f4bb-b65fe761ec80"
      },
      "execution_count": 14,
      "outputs": [
        {
          "output_type": "stream",
          "name": "stdout",
          "text": [
            "1\n",
            "2\n",
            "4\n",
            "8\n",
            "16\n",
            "32\n"
          ]
        }
      ]
    },
    {
      "cell_type": "markdown",
      "source": [
        "###7. Implement a generator function that reads a file line by line and yields each line as a string ?"
      ],
      "metadata": {
        "id": "gBkEY2sVm7fz"
      }
    },
    {
      "cell_type": "code",
      "source": [
        "def read_lines(lines):\n",
        "    for line in lines:\n",
        "        yield line"
      ],
      "metadata": {
        "id": "K1hDIps_m4hX"
      },
      "execution_count": 20,
      "outputs": []
    },
    {
      "cell_type": "code",
      "source": [
        "fake_file = [\n",
        "    \"First line\\n\",\n",
        "    \"Second line\\n\",\n",
        "    \"Third line\\n\"\n",
        "]\n",
        "\n",
        "for line in read_lines(fake_file):\n",
        "    print(line, end='')"
      ],
      "metadata": {
        "colab": {
          "base_uri": "https://localhost:8080/"
        },
        "id": "m7A5HO7onELP",
        "outputId": "d5cd28f6-27af-47a3-f589-e28cf0261ae6"
      },
      "execution_count": 21,
      "outputs": [
        {
          "output_type": "stream",
          "name": "stdout",
          "text": [
            "First line\n",
            "Second line\n",
            "Third line\n"
          ]
        }
      ]
    },
    {
      "cell_type": "markdown",
      "source": [
        "###8. Use a lambda function in Python to sort a list of tuples based on the second element of each tuple ?"
      ],
      "metadata": {
        "id": "VbqfYAlinwHe"
      }
    },
    {
      "cell_type": "code",
      "source": [
        "data = [(1, 3), (4, 1), (2, 5), (3, 2)]\n",
        "\n",
        "sorted_data = sorted(data, key=lambda x: x[1])\n",
        "\n",
        "print(sorted_data)"
      ],
      "metadata": {
        "colab": {
          "base_uri": "https://localhost:8080/"
        },
        "id": "TtyyVQAxnGlF",
        "outputId": "10f86d3e-658f-4896-c8cd-7fd3030edaef"
      },
      "execution_count": 22,
      "outputs": [
        {
          "output_type": "stream",
          "name": "stdout",
          "text": [
            "[(4, 1), (3, 2), (1, 3), (2, 5)]\n"
          ]
        }
      ]
    },
    {
      "cell_type": "markdown",
      "source": [
        "###9. Write a Python program that uses `map()` to convert a list of temperatures from Celsius to Fahrenheit ?"
      ],
      "metadata": {
        "id": "xgodatyyn7vV"
      }
    },
    {
      "cell_type": "code",
      "source": [
        "celsius = [0, 20, 37, 100]\n",
        "\n",
        "fahrenheit = list(map(lambda c: c * 9/5 + 32, celsius))\n",
        "\n",
        "print(\"Celsius:    \", celsius)\n",
        "print(\"Fahrenheit: \", fahrenheit)"
      ],
      "metadata": {
        "colab": {
          "base_uri": "https://localhost:8080/"
        },
        "id": "KZK1O1_rn3lo",
        "outputId": "05fa7b42-0c8b-4151-b994-01dfebb02a8d"
      },
      "execution_count": 23,
      "outputs": [
        {
          "output_type": "stream",
          "name": "stdout",
          "text": [
            "Celsius:     [0, 20, 37, 100]\n",
            "Fahrenheit:  [32.0, 68.0, 98.6, 212.0]\n"
          ]
        }
      ]
    },
    {
      "cell_type": "markdown",
      "source": [
        "###10. Create a Python program that uses `filter()` to remove all the vowels from a given string ?"
      ],
      "metadata": {
        "id": "w3Ao7kehoGoD"
      }
    },
    {
      "cell_type": "code",
      "source": [
        "def remove_vowels(input_str):\n",
        "    vowels = 'aeiouAEIOU'\n",
        "    return ''.join(filter(lambda ch: ch not in vowels, input_str))\n",
        "\n",
        "\n",
        "text = \"Hello, World!\"\n",
        "result = remove_vowels(text)\n",
        "\n",
        "print(\"Original string:\", text)\n",
        "print(\"Without vowels: \", result)"
      ],
      "metadata": {
        "colab": {
          "base_uri": "https://localhost:8080/"
        },
        "id": "qW1G6K1zoDfR",
        "outputId": "ae830b9e-997e-456e-8c03-14ad8495197b"
      },
      "execution_count": 24,
      "outputs": [
        {
          "output_type": "stream",
          "name": "stdout",
          "text": [
            "Original string: Hello, World!\n",
            "Without vowels:  Hll, Wrld!\n"
          ]
        }
      ]
    },
    {
      "cell_type": "markdown",
      "source": [
        "###11) Imagine an accounting routine used in a book shop. It works on a list with sublists, which look like this:Write a Python program, which returns a list with 2-tuples. Each tuple consists of the order number and theproduct of the price per item and the quantity. The product should be increased by 10,- € if the value of theorder is smaller than 100,00 €.\n",
        "\n",
        "![image.png](data:image/png;base64,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)\n",
        "\n",
        "Write a Python program using lambda and map."
      ],
      "metadata": {
        "id": "HjmGHrqZoVkn"
      }
    },
    {
      "cell_type": "code",
      "source": [
        "orders = [\n",
        "    [34587, \"Learning Python, Mark Lutz\", 4, 40.95],\n",
        "    [98762, \"Programming Python, Mark Lutz\", 5, 56.80],\n",
        "    [77226, \"Head First Python, Paul Barry\", 3, 32.95],\n",
        "    [88112, \"Einführung in Python3, Bernd Klein\", 3, 24.99]\n",
        "]\n",
        "\n",
        "result = list(map(lambda order:\n",
        "                  (order[0], order[2]*order[3] + 10 if order[2]*order[3] < 100 else order[2]*order[3]),\n",
        "                  orders))\n",
        "\n",
        "print(result)"
      ],
      "metadata": {
        "colab": {
          "base_uri": "https://localhost:8080/"
        },
        "id": "Ojr_dH5EoOkT",
        "outputId": "7518cda0-f590-4cb5-be58-cf416cfe2c4f"
      },
      "execution_count": 25,
      "outputs": [
        {
          "output_type": "stream",
          "name": "stdout",
          "text": [
            "[(34587, 163.8), (98762, 284.0), (77226, 108.85000000000001), (88112, 84.97)]\n"
          ]
        }
      ]
    },
    {
      "cell_type": "code",
      "source": [],
      "metadata": {
        "id": "2GDS9BhFo0df"
      },
      "execution_count": null,
      "outputs": []
    }
  ]
}